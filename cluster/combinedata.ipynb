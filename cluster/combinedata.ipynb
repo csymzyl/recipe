{
 "cells": [
  {
   "cell_type": "code",
   "execution_count": 1,
   "metadata": {},
   "outputs": [],
   "source": [
    "import csv\n",
    "import numpy as np\n",
    "import pandas as pd"
   ]
  },
  {
   "cell_type": "code",
   "execution_count": 13,
   "metadata": {},
   "outputs": [],
   "source": [
    "recipes= pd.read_csv('cleanedRecipe.csv',header=None)\n",
    "ingres= pd.read_csv('ingr_info.csv',header=None)\n",
    "pairs=pd.read_csv('ingre_comp.csv',header=None)\n",
    "\n",
    "#with open('newIngreComp.csv', 'rb') as f:\n",
    "#    reader= csv.reader(f)\n",
    "#    pairs = list(reader)"
   ]
  },
  {
   "cell_type": "code",
   "execution_count": 14,
   "metadata": {},
   "outputs": [
    {
     "name": "stdout",
     "output_type": "stream",
     "text": [
      "          0     1\n",
      "0      1392   906\n",
      "1      1259   861\n",
      "2      1079   673\n",
      "3        22   906\n",
      "4       103   906\n",
      "5      1005   906\n",
      "6      1005   278\n",
      "7      1005   171\n",
      "8       371   387\n",
      "9       371   165\n",
      "10      371  1099\n",
      "11      371   375\n",
      "12      371   519\n",
      "13      371   587\n",
      "14      371   171\n",
      "15      382   847\n",
      "16      382   611\n",
      "17     1249   724\n",
      "18     1097   204\n",
      "19     1097    94\n",
      "20      281    94\n",
      "21       27   165\n",
      "22      564    64\n",
      "23      307   288\n",
      "24      307   577\n",
      "25      307   136\n",
      "26      279   602\n",
      "27     1459   238\n",
      "28      521   797\n",
      "29      818   283\n",
      "...     ...   ...\n",
      "36751   230  1001\n",
      "36752   230   108\n",
      "36753   230   734\n",
      "36754   230   597\n",
      "36755   230   599\n",
      "36756   230   985\n",
      "36757   230    40\n",
      "36758   230   398\n",
      "36759   230   118\n",
      "36760   230   317\n",
      "36761   230  1013\n",
      "36762   230   684\n",
      "36763   230   198\n",
      "36764   230   753\n",
      "36765   230   890\n",
      "36766   230    63\n",
      "36767   230  1030\n",
      "36768   230   893\n",
      "36769   230   555\n",
      "36770   230   556\n",
      "36771   615  1078\n",
      "36772   837   337\n",
      "36773   876   461\n",
      "36774   876  1067\n",
      "36775   876   554\n",
      "36776   876   657\n",
      "36777   637   461\n",
      "36778   689   650\n",
      "36779   689   297\n",
      "36780  1080    13\n",
      "\n",
      "[36781 rows x 2 columns]\n"
     ]
    }
   ],
   "source": [
    "#print (recipes)\n",
    "#print (ingres)\n",
    "print (pairs)"
   ]
  },
  {
   "cell_type": "code",
   "execution_count": 15,
   "metadata": {},
   "outputs": [
    {
     "ename": "TypeError",
     "evalue": "'int' object is not subscriptable",
     "output_type": "error",
     "traceback": [
      "\u001b[1;31m---------------------------------------------------------------------------\u001b[0m",
      "\u001b[1;31mTypeError\u001b[0m                                 Traceback (most recent call last)",
      "\u001b[1;32m<ipython-input-15-d346284c6750>\u001b[0m in \u001b[0;36m<module>\u001b[1;34m\u001b[0m\n\u001b[0;32m      4\u001b[0m     \u001b[1;31m# print recipeLine\u001b[0m\u001b[1;33m\u001b[0m\u001b[1;33m\u001b[0m\u001b[1;33m\u001b[0m\u001b[0m\n\u001b[0;32m      5\u001b[0m     \u001b[0mj\u001b[0m \u001b[1;33m=\u001b[0m \u001b[0mj\u001b[0m \u001b[1;33m+\u001b[0m \u001b[1;36m1\u001b[0m\u001b[1;33m\u001b[0m\u001b[1;33m\u001b[0m\u001b[0m\n\u001b[1;32m----> 6\u001b[1;33m     \u001b[0mrecipeComp\u001b[0m\u001b[1;33m[\u001b[0m\u001b[0mj\u001b[0m\u001b[1;33m]\u001b[0m\u001b[1;33m[\u001b[0m\u001b[1;36m0\u001b[0m\u001b[1;33m]\u001b[0m \u001b[1;33m=\u001b[0m \u001b[0mrecipeLine\u001b[0m\u001b[1;33m[\u001b[0m\u001b[1;36m0\u001b[0m\u001b[1;33m]\u001b[0m\u001b[1;33m\u001b[0m\u001b[1;33m\u001b[0m\u001b[0m\n\u001b[0m\u001b[0;32m      7\u001b[0m     \u001b[0mrecipeComp\u001b[0m\u001b[1;33m[\u001b[0m\u001b[0mj\u001b[0m\u001b[1;33m]\u001b[0m\u001b[1;33m[\u001b[0m\u001b[1;36m1\u001b[0m\u001b[1;33m]\u001b[0m \u001b[1;33m=\u001b[0m \u001b[0mrecipeLine\u001b[0m\u001b[1;33m[\u001b[0m\u001b[1;36m1\u001b[0m\u001b[1;33m]\u001b[0m\u001b[1;33m\u001b[0m\u001b[1;33m\u001b[0m\u001b[0m\n\u001b[0;32m      8\u001b[0m     \u001b[0mingreList\u001b[0m \u001b[1;33m=\u001b[0m \u001b[0mrecipeLine\u001b[0m\u001b[1;33m[\u001b[0m\u001b[1;36m2\u001b[0m\u001b[1;33m:\u001b[0m\u001b[1;33m]\u001b[0m \u001b[1;31m#list of ingredients for one recipe\u001b[0m\u001b[1;33m\u001b[0m\u001b[1;33m\u001b[0m\u001b[0m\n",
      "\u001b[1;31mTypeError\u001b[0m: 'int' object is not subscriptable"
     ]
    }
   ],
   "source": [
    "recipeComp=[[0]*1111 for i in range(15874)]\n",
    "j = -1\n",
    "for recipeLine in recipes:\n",
    "    # print recipeLine\n",
    "    j = j + 1\n",
    "    recipeComp[j][0] = recipeLine[0]\n",
    "    recipeComp[j][1] = recipeLine[1]\n",
    "    ingreList = recipeLine[2:] #list of ingredients for one recipe\n",
    "    ingreNum = len(ingreList)\n",
    "    flag = 0\n",
    "    for _ingre in ingreList: #each ingredient for one recipe\n",
    "        # new_list = []\n",
    "        # flag = 0\n",
    "        _ingreWord = _ingre.split(' ')\n",
    "        _flag = 0\n",
    "        for _eachIngreWord in _ingreWord:\n",
    "            __flag = 0\n",
    "            for ingreLine in ingres:\n",
    "                ingreIndex = ingreLine[0]\n",
    "                ingre = ingreLine[1]\n",
    "                ingre = ingre.replace(\"_\", \" \")\n",
    "                ingreLine[1] = ingre\n",
    "                if _eachIngreWord in ingre:\n",
    "                    for row in pairs:\n",
    "                        if row[0] == ingreIndex:\n",
    "                            for _index in row[1:]:\n",
    "                                recipeComp[j][int(_index)+2] = 1\n",
    "                                # print recipeComp[j][0:2]\n",
    "                    ## search for compound and add compound to list\n",
    "#with open(\"recipeCompound.csv\", \"wb\") as f:\n",
    "#    writer = csv.writer(f)\n",
    "#    writer.writerows(recipeComp)\n",
    "# print cleanedData\n",
    "\n",
    "\n"
   ]
  },
  {
   "cell_type": "code",
   "execution_count": null,
   "metadata": {},
   "outputs": [],
   "source": [
    "recipeComp.to_csv(\"recipecoumpound.csv\")"
   ]
  }
 ],
 "metadata": {
  "kernelspec": {
   "display_name": "Python 3",
   "language": "python",
   "name": "python3"
  },
  "language_info": {
   "codemirror_mode": {
    "name": "ipython",
    "version": 3
   },
   "file_extension": ".py",
   "mimetype": "text/x-python",
   "name": "python",
   "nbconvert_exporter": "python",
   "pygments_lexer": "ipython3",
   "version": "3.7.3"
  }
 },
 "nbformat": 4,
 "nbformat_minor": 2
}
